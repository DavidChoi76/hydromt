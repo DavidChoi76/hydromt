{
 "cells": [
  {
   "cell_type": "code",
   "execution_count": null,
   "id": "8dcb1f15",
   "metadata": {},
   "outputs": [],
   "source": [
    "import numpy as np\n",
    "import pandas as pd\n",
    "import geopandas as gpd\n",
    "import xarray as xr\n",
    "from shapely.geometry import box"
   ]
  },
  {
   "cell_type": "code",
   "execution_count": null,
   "id": "7ee6e972",
   "metadata": {},
   "outputs": [],
   "source": [
    "import matplotlib.pyplot as plt\n",
    "from matplotlib import colors, patheffects\n",
    "import cartopy.io.img_tiles as cimgt\n",
    "import cartopy.crs as ccrs\n",
    "proj = ccrs.PlateCarree()"
   ]
  },
  {
   "cell_type": "code",
   "execution_count": null,
   "id": "3b7dea9c",
   "metadata": {},
   "outputs": [],
   "source": [
    "import hydromt\n",
    "from  hydromt.log import setuplog\n",
    "from hydromt.workflows.basin_mask import get_basin_geometry\n",
    "logger = setuplog(\"basins\", log_level=10)"
   ]
  },
  {
   "cell_type": "code",
   "execution_count": null,
   "id": "91deb6f7",
   "metadata": {},
   "outputs": [],
   "source": [
    "# read data from artifacts using the data catalog\n",
    "data_catalog = hydromt.DataCatalog()\n",
    "ds = data_catalog.get_rasterdataset(\"hydro_merit\")\n",
    "gdf_bas_index = data_catalog.get_geodataframe(\"hydro_merit_index\")"
   ]
  },
  {
   "cell_type": "code",
   "execution_count": null,
   "id": "9682eba4",
   "metadata": {},
   "outputs": [],
   "source": [
    "flwdir = hydromt.flw.flwdir_from_da(ds['flwdir'], ftype='d8')\n",
    "feats = flwdir.streams(mask=ds['strord']>=7)\n",
    "gdf_riv = gpd.GeoDataFrame.from_features(feats).set_index(\"idxs\")"
   ]
  },
  {
   "cell_type": "code",
   "execution_count": null,
   "id": "b122334b",
   "metadata": {},
   "outputs": [],
   "source": [
    "# get the basin boundary based on a point location\n",
    "# {'basin': [x, y]}\n",
    "\n",
    "xy=[12.6, 45.8]\n",
    "gdf_xy = gpd.GeoDataFrame(geometry=gpd.points_from_xy(x=[xy[0]], y=[xy[1]]), crs=4326)\n",
    "gdf_bas, _ = get_basin_geometry(\n",
    "    ds,\n",
    "    kind='basin',\n",
    "    xy=xy,\n",
    "    gdf_bas=gdf_bas_index,\n",
    "    logger=logger,\n",
    ")"
   ]
  },
  {
   "cell_type": "code",
   "execution_count": null,
   "id": "376e5c11",
   "metadata": {},
   "outputs": [],
   "source": [
    "# plot results\n",
    "extent = np.array(gdf_bas.buffer(0.1).total_bounds)[[0, 2, 1, 3]]\n",
    "fig = plt.figure(figsize=(6,8))\n",
    "ax = plt.subplot(projection=proj)\n",
    "ax.set_extent(extent, crs=proj)\n",
    "ax.add_image(cimgt.QuadtreeTiles(), 12)\n",
    "gdf_bas.boundary.plot(ax=ax, edgecolor='k')\n",
    "gdf_riv.plot(ax=ax, color='blue', alpha=0.7)\n",
    "gdf_xy.plot(ax=ax, markersize=40, c='red')"
   ]
  },
  {
   "cell_type": "code",
   "execution_count": null,
   "id": "36f172aa",
   "metadata": {},
   "outputs": [],
   "source": [
    "# {'subbasin': [x, y], 'strord':7, 'bounds': [12.2, 45.7, 12.9, 46.45]}\n",
    "# when an initial bounds is provided the basin index is not used\n",
    "bounds = [12.1, 45.5, 12.9, 46.5]\n",
    "gdf_bounds = gpd.GeoDataFrame(geometry=[box(*bounds)], crs=4326)\n",
    "gdf_bas, gdf_out = get_basin_geometry(\n",
    "    ds,\n",
    "    kind='subbasin',\n",
    "    xy=xy,\n",
    "    strord=7,\n",
    "    bounds=bounds,\n",
    "    logger=logger,\n",
    ")"
   ]
  },
  {
   "cell_type": "code",
   "execution_count": null,
   "id": "3f81cdc3",
   "metadata": {},
   "outputs": [],
   "source": [
    "# plot results\n",
    "extent = gdf_bounds.buffer(0.05).total_bounds[[0, 2, 1, 3]]\n",
    "fig = plt.figure(figsize=(6,8))\n",
    "ax = plt.subplot(projection=proj)\n",
    "ax.set_extent(extent, crs=proj)\n",
    "ax.add_image(cimgt.QuadtreeTiles(), 12)\n",
    "gdf_bas.boundary.plot(ax=ax, edgecolor='k')\n",
    "gdf_riv.plot(ax=ax, color='blue', alpha=0.7)\n",
    "gdf_out.plot(ax=ax, markersize=40, c='red', zorder=2)\n",
    "gdf_bounds.boundary.plot(ax=ax, edgecolor='k', ls='--')"
   ]
  },
  {
   "cell_type": "code",
   "execution_count": null,
   "id": "7a21f010",
   "metadata": {},
   "outputs": [],
   "source": [
    "# {'subbasin': [xmin, ymin, xmax, ymax], 'strord':threshold, 'bounds': [xmin, ymin, xmax, ymax]}\n",
    "# the subbasin outlfow point is based on the bbox\n",
    "bbox = [12.50, 45.72, 12.7, 46]\n",
    "gdf_bbox = gpd.GeoDataFrame(geometry=[box(*bbox)], crs=4326)\n",
    "gdf_bas, gdf_out = get_basin_geometry(\n",
    "    ds,\n",
    "    kind='subbasin',\n",
    "    bbox=bbox,\n",
    "    strord=8,\n",
    "    bounds=bounds,\n",
    "    logger=logger,\n",
    ")"
   ]
  },
  {
   "cell_type": "code",
   "execution_count": null,
   "id": "b2c5ac8d",
   "metadata": {},
   "outputs": [],
   "source": [
    "# plot results\n",
    "extent = gdf_bounds.buffer(0.05).total_bounds[[0, 2, 1, 3]]\n",
    "fig = plt.figure(figsize=(6,8))\n",
    "ax = plt.subplot(projection=proj)\n",
    "ax.set_extent(extent, crs=proj)\n",
    "ax.add_image(cimgt.QuadtreeTiles(), 12)\n",
    "gdf_bas.boundary.plot(ax=ax, edgecolor='k')\n",
    "gdf_riv.plot(ax=ax, color='blue', alpha=0.7)\n",
    "gdf_out.plot(ax=ax, markersize=40, c='red', zorder=2)\n",
    "gdf_bbox.boundary.plot(ax=ax, edgecolor='r', ls='-')\n",
    "gdf_bounds.boundary.plot(ax=ax, edgecolor='k', ls='--')"
   ]
  },
  {
   "cell_type": "code",
   "execution_count": null,
   "id": "e77e1f11",
   "metadata": {},
   "outputs": [],
   "source": [
    "# {'interbasin': [xmin, ymin, xmax, ymax], 'strord':threshold}\n",
    "gdf_bas, gdf_out = get_basin_geometry(\n",
    "    ds,\n",
    "    kind='interbasin',\n",
    "    bbox=bbox,\n",
    "    strord=8,\n",
    "    buffer=20,\n",
    "    logger=logger,\n",
    ")"
   ]
  },
  {
   "cell_type": "code",
   "execution_count": null,
   "id": "a520bd10",
   "metadata": {},
   "outputs": [],
   "source": [
    "# plot results\n",
    "extent = gdf_bounds.buffer(0.05).buffer(0.02).total_bounds[[0, 2, 1, 3]]\n",
    "fig = plt.figure(figsize=(6,8))\n",
    "ax = plt.subplot(projection=proj)\n",
    "ax.set_extent(extent, crs=proj)\n",
    "ax.add_image(cimgt.QuadtreeTiles(), 12)\n",
    "gdf_bas.boundary.plot(ax=ax, edgecolor='k', zorder=2)\n",
    "gdf_riv.plot(ax=ax, color='blue', alpha=0.7)\n",
    "gdf_out.plot(ax=ax, markersize=40, c='red', zorder=2)\n",
    "gdf_bbox.boundary.plot(ax=ax, edgecolor='r', ls='-', zorder=1)\n",
    "gdf_bounds.boundary.plot(ax=ax, edgecolor='k', ls='--', zorder=1)"
   ]
  },
  {
   "cell_type": "code",
   "execution_count": null,
   "id": "eee15eb5",
   "metadata": {},
   "outputs": [],
   "source": []
  }
 ],
 "metadata": {
  "kernelspec": {
   "display_name": "Python 3",
   "language": "python",
   "name": "python3"
  },
  "language_info": {
   "codemirror_mode": {
    "name": "ipython",
    "version": 3
   },
   "file_extension": ".py",
   "mimetype": "text/x-python",
   "name": "python",
   "nbconvert_exporter": "python",
   "pygments_lexer": "ipython3",
   "version": "3.9.2"
  }
 },
 "nbformat": 4,
 "nbformat_minor": 5
}
