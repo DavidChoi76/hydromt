{
 "cells": [
  {
   "cell_type": "markdown",
   "source": [
    "## Delineate basins"
   ],
   "metadata": {}
  },
  {
   "cell_type": "markdown",
   "source": [
    "The first step when building a model is to define the model domain. For hydrological models this is typically a full **basin** or **subbasin** which includes all upstream cells. For hydrodynamic models it often makes sense to use an **interbasin** to ensure that the same river only enters the model domain once. *hydroMT* has the `get_basin_geometry` function to do just that. "
   ],
   "metadata": {}
  },
  {
   "cell_type": "markdown",
   "source": [
    "### Import packages"
   ],
   "metadata": {}
  },
  {
   "cell_type": "code",
   "execution_count": null,
   "source": [
    "import numpy as np\n",
    "import pandas as pd\n",
    "import geopandas as gpd\n",
    "import xarray as xr\n",
    "from shapely.geometry import box\n",
    "from pprint import pprint"
   ],
   "outputs": [],
   "metadata": {}
  },
  {
   "cell_type": "code",
   "execution_count": null,
   "source": [
    "# for plotting\n",
    "import matplotlib.pyplot as plt\n",
    "from matplotlib import colors, patheffects\n",
    "import cartopy.io.img_tiles as cimgt\n",
    "import cartopy.crs as ccrs\n",
    "\n",
    "proj = ccrs.PlateCarree()  # plot projection"
   ],
   "outputs": [],
   "metadata": {}
  },
  {
   "cell_type": "code",
   "execution_count": null,
   "source": [
    "# import hydromt\n",
    "import hydromt\n",
    "from hydromt.workflows.basin_mask import get_basin_geometry"
   ],
   "outputs": [],
   "metadata": {}
  },
  {
   "cell_type": "code",
   "execution_count": null,
   "source": [
    "# setup logging\n",
    "from hydromt.log import setuplog\n",
    "\n",
    "logger = setuplog(\"basin_delineation\", log_level=10)"
   ],
   "outputs": [],
   "metadata": {}
  },
  {
   "cell_type": "markdown",
   "source": [
    "### Read data"
   ],
   "metadata": {}
  },
  {
   "cell_type": "markdown",
   "source": [
    "Read data using the `DataCatalog`. If no yml files with data sources are provided, by default data for the Piave basin is downloaded from the hydromt-artifacts to to `~/.hydromt_data/`. Links to the original data sources and data licenses can be found in the meta dict of each source. Here we use flow direction data from [MERIT Hydro](http://hydro.iis.u-tokyo.ac.jp/~yamadai/MERIT_Hydro). Note that the original `'MERIT Hydro'` data has been extended with a basin mask layer,\n",
    "which together with the basin index vector data makes faster basin delineation possible."
   ],
   "metadata": {}
  },
  {
   "cell_type": "code",
   "execution_count": null,
   "source": [
    "# instantiate instance of Data Catalog\n",
    "data_catalog = hydromt.DataCatalog(logger=logger)"
   ],
   "outputs": [],
   "metadata": {}
  },
  {
   "cell_type": "code",
   "execution_count": null,
   "source": [
    "# read MERIT hydro flow direction data\n",
    "pprint(data_catalog[\"merit_hydro\"].meta)\n",
    "ds = data_catalog.get_rasterdataset(\"merit_hydro\")"
   ],
   "outputs": [],
   "metadata": {}
  },
  {
   "cell_type": "code",
   "execution_count": null,
   "source": [
    "# read MERIT hydro basin index vector data\n",
    "# Here we pass the GeoDataFrameAdapter instead of the GeoDataFrame itself\n",
    "# to load the relevant area within the get_basin_geometry method\n",
    "pprint(data_catalog[\"merit_hydro_index\"].meta)\n",
    "bas_index = data_catalog[\"merit_hydro_index\"]"
   ],
   "outputs": [],
   "metadata": {}
  },
  {
   "cell_type": "code",
   "execution_count": null,
   "source": [
    "# derive river geometry based on stream order >= 7 (for plotting only)\n",
    "flwdir = hydromt.flw.flwdir_from_da(ds[\"flwdir\"], ftype=\"d8\")\n",
    "feats = flwdir.streams(mask=ds[\"strord\"] >= 7)\n",
    "gdf_riv = gpd.GeoDataFrame.from_features(feats)"
   ],
   "outputs": [],
   "metadata": {}
  },
  {
   "cell_type": "markdown",
   "source": [
    "### Delineate basins"
   ],
   "metadata": {}
  },
  {
   "cell_type": "markdown",
   "source": [
    "Several examples to delineate sub-, inter- or full basins are provided below. Together with the command line interface (CLI) syntax for the `hydromt build` command. All CLI options are described in the `parse_region` method."
   ],
   "metadata": {}
  },
  {
   "cell_type": "markdown",
   "source": [
    "Get the basin based on a point location `[x, y]`."
   ],
   "metadata": {}
  },
  {
   "cell_type": "code",
   "execution_count": null,
   "source": [
    "# CLI syntax: {'basin': [x, y]}\n",
    "\n",
    "xy = [12.6, 45.8]\n",
    "gdf_xy = gpd.GeoDataFrame(geometry=gpd.points_from_xy(x=[xy[0]], y=[xy[1]]), crs=4326)\n",
    "gdf_bas, _ = get_basin_geometry(\n",
    "    ds,\n",
    "    kind=\"basin\",\n",
    "    xy=xy,\n",
    "    basin_index=bas_index,\n",
    "    logger=logger,\n",
    ")"
   ],
   "outputs": [],
   "metadata": {}
  },
  {
   "cell_type": "code",
   "execution_count": null,
   "source": [
    "# plot results\n",
    "extent = np.array(gdf_bas.buffer(0.1).total_bounds)[[0, 2, 1, 3]]\n",
    "fig = plt.figure(figsize=(6, 8))\n",
    "ax = plt.subplot(projection=proj)\n",
    "ax.set_extent(extent, crs=proj)\n",
    "ax.add_image(cimgt.QuadtreeTiles(), 12)\n",
    "gdf_bas.boundary.plot(ax=ax, edgecolor=\"k\")\n",
    "gdf_riv.plot(ax=ax, color=\"blue\", alpha=0.7)\n",
    "gdf_xy.plot(ax=ax, markersize=40, c=\"red\")"
   ],
   "outputs": [],
   "metadata": {}
  },
  {
   "cell_type": "markdown",
   "source": [
    "### Delineate subbasins"
   ],
   "metadata": {}
  },
  {
   "cell_type": "markdown",
   "source": [
    "We need an intial bounding box to delineate the subbasin. This can be derived from the *merit_hydro_index* or user provided intitial `bounds`. The latter might be faster if delineating a small subbasin from a large basin. A warning is raised if not all contributing cells are included."
   ],
   "metadata": {}
  },
  {
   "cell_type": "markdown",
   "source": [
    "Get a subbasin based on its outlet location `[x,y]`, snapped to a stream defined by a `<variable>:<threshold>` pair, in this case a stream order larger or equal to 7. The `variable` should be present in the dataset `ds`. "
   ],
   "metadata": {}
  },
  {
   "cell_type": "code",
   "execution_count": null,
   "source": [
    "# {'subbasin': [x, y], <variable>: <threshold>, 'bounds': [xmin, ymin, xmax, ymax]}\n",
    "\n",
    "bounds = [12.1, 45.5, 12.9, 46.5]\n",
    "gdf_bounds = gpd.GeoDataFrame(geometry=[box(*bounds)], crs=4326)\n",
    "gdf_bas, gdf_out = get_basin_geometry(\n",
    "    ds,\n",
    "    kind=\"subbasin\",\n",
    "    xy=xy,\n",
    "    strord=7,\n",
    "    #     basin_index=bas_index,\n",
    "    bounds=bounds,\n",
    "    logger=logger,\n",
    ")"
   ],
   "outputs": [],
   "metadata": {}
  },
  {
   "cell_type": "code",
   "execution_count": null,
   "source": [
    "# plot results\n",
    "extent = gdf_bounds.buffer(0.05).total_bounds[[0, 2, 1, 3]]\n",
    "fig = plt.figure(figsize=(6, 8))\n",
    "ax = plt.subplot(projection=proj)\n",
    "ax.set_extent(extent, crs=proj)\n",
    "ax.add_image(cimgt.QuadtreeTiles(), 12)\n",
    "gdf_bas.boundary.plot(ax=ax, edgecolor=\"k\")\n",
    "gdf_riv.plot(ax=ax, color=\"blue\", alpha=0.7)\n",
    "gdf_out.plot(ax=ax, markersize=40, c=\"red\", zorder=2)\n",
    "gdf_bounds.boundary.plot(ax=ax, edgecolor=\"k\", ls=\"--\")"
   ],
   "outputs": [],
   "metadata": {}
  },
  {
   "cell_type": "markdown",
   "source": [
    "Get a subbasin based on the location where the stream flows out of a `bbox`. Here the stream defined by a `<variable>:<threshold>` pair, in this case a stream order larger or equal to 8. The `variable` should be present in the dataset `ds`. "
   ],
   "metadata": {}
  },
  {
   "cell_type": "code",
   "execution_count": null,
   "source": [
    "# {'subbasin': [xmin, ymin, xmax, ymax], <variable>: <threshold>, 'bounds': [xmin, ymin, xmax, ymax]}\n",
    "bbox = [12.50, 45.72, 12.7, 46]\n",
    "gdf_bbox = gpd.GeoDataFrame(geometry=[box(*bbox)], crs=4326)\n",
    "gdf_bas, gdf_out = get_basin_geometry(\n",
    "    ds,\n",
    "    kind=\"subbasin\",\n",
    "    bbox=bbox,\n",
    "    strord=8,\n",
    "    bounds=bounds,\n",
    "    logger=logger,\n",
    ")"
   ],
   "outputs": [],
   "metadata": {}
  },
  {
   "cell_type": "code",
   "execution_count": null,
   "source": [
    "# plot results\n",
    "extent = gdf_bounds.buffer(0.05).total_bounds[[0, 2, 1, 3]]\n",
    "fig = plt.figure(figsize=(6, 8))\n",
    "ax = plt.subplot(projection=proj)\n",
    "ax.set_extent(extent, crs=proj)\n",
    "ax.add_image(cimgt.QuadtreeTiles(), 12)\n",
    "gdf_bas.boundary.plot(ax=ax, edgecolor=\"k\")\n",
    "gdf_riv.plot(ax=ax, color=\"blue\", alpha=0.7)\n",
    "gdf_out.plot(ax=ax, markersize=40, c=\"red\", zorder=2)\n",
    "gdf_bbox.boundary.plot(ax=ax, edgecolor=\"r\", ls=\"-\")\n",
    "gdf_bounds.boundary.plot(ax=ax, edgecolor=\"k\", ls=\"--\")"
   ],
   "outputs": [],
   "metadata": {}
  },
  {
   "cell_type": "markdown",
   "source": [
    "### Delineate interbasins"
   ],
   "metadata": {}
  },
  {
   "cell_type": "markdown",
   "source": [
    "Get an interbasin based on the streams within a `bbox`. The interbasin is limited to the most downstream contiguous area within the bbox that drains to the stream.  Here the stream defined by a `<variable>:<threshold>` pair, in this case a stream order larger or equal to 8. The `variable` should be present in the dataset `ds`. The `buffer` is required to check wether streams flow in and out of the bbox. "
   ],
   "metadata": {}
  },
  {
   "cell_type": "code",
   "execution_count": null,
   "source": [
    "# {'interbasin': [xmin, ymin, xmax, ymax], <variable>: <threshold>}\n",
    "gdf_bas, gdf_out = get_basin_geometry(\n",
    "    ds,\n",
    "    kind=\"interbasin\",\n",
    "    bbox=bbox,\n",
    "    strord=8,\n",
    "    buffer=20,\n",
    "    logger=logger,\n",
    ")"
   ],
   "outputs": [],
   "metadata": {}
  },
  {
   "cell_type": "code",
   "execution_count": null,
   "source": [
    "# plot results\n",
    "extent = gdf_bbox.buffer(0.02).total_bounds[[0, 2, 1, 3]]\n",
    "fig = plt.figure(figsize=(6, 8))\n",
    "ax = plt.subplot(projection=proj)\n",
    "ax.set_extent(extent, crs=proj)\n",
    "ax.add_image(cimgt.QuadtreeTiles(), 12)\n",
    "gdf_bas.boundary.plot(ax=ax, edgecolor=\"k\", zorder=2)\n",
    "gdf_riv.plot(ax=ax, color=\"blue\", alpha=0.7)\n",
    "gdf_out.plot(ax=ax, markersize=40, c=\"red\", zorder=2)\n",
    "gdf_bbox.boundary.plot(ax=ax, edgecolor=\"r\", ls=\"-\", zorder=1)\n",
    "gdf_bounds.boundary.plot(ax=ax, edgecolor=\"k\", ls=\"--\", zorder=1)"
   ],
   "outputs": [],
   "metadata": {}
  }
 ],
 "metadata": {
  "kernelspec": {
   "display_name": "Python 3",
   "language": "python",
   "name": "python3"
  },
  "language_info": {
   "codemirror_mode": {
    "name": "ipython",
    "version": 3
   },
   "file_extension": ".py",
   "mimetype": "text/x-python",
   "name": "python",
   "nbconvert_exporter": "python",
   "pygments_lexer": "ipython3",
   "version": "3.9.2"
  }
 },
 "nbformat": 4,
 "nbformat_minor": 5
}