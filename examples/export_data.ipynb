{
 "cells": [
  {
   "cell_type": "markdown",
   "id": "f83e6cfc",
   "metadata": {},
   "source": [
    "## Example: Exporting data using a data catalogue"
   ]
  },
  {
   "cell_type": "markdown",
   "id": "72e03fec",
   "metadata": {},
   "source": [
    "This example illustrates the how to read and export data for a specific region / dates using the HydroMT [DataCatalog](../_generated/hydromt.data_catalog.DataCatalog.rst) and the `export_data` method."
   ]
  },
  {
   "cell_type": "code",
   "execution_count": null,
   "id": "86d84a99",
   "metadata": {},
   "outputs": [],
   "source": [
    "# import hydromt and setup logging\n",
    "import os\n",
    "import hydromt\n",
    "from hydromt.log import setuplog\n",
    "\n",
    "logger = setuplog(\"export data\", log_level=10)"
   ]
  },
  {
   "cell_type": "markdown",
   "id": "cf1144ef",
   "metadata": {},
   "source": [
    "### Explore the current data catalogue\n",
    "For this exercise, we will use the pre-defined catalogue `artifact_data` which contains a global data extracts for the Piave basin in Northern Italy. This data catalogue and the actual data linked to it are for a small geographic extent as it is intended for documentation and testing purposes only. If you have another data catalogue available (and the linked data), you can use it instead.\n",
    "\n",
    "First let's read the pre-defined artifact data catalogue:"
   ]
  },
  {
   "cell_type": "code",
   "execution_count": null,
   "id": "fa0b4054",
   "metadata": {},
   "outputs": [],
   "source": [
    "# Download and read artifacts for the Piave basin to `~/.hydromt_data/`.\n",
    "data_catalog = hydromt.DataCatalog(logger=logger)\n",
    "data_catalog.from_predefined_catalogs('artifact_data')"
   ]
  },
  {
   "cell_type": "markdown",
   "id": "55730836",
   "metadata": {},
   "source": [
    "The `artifact_data` catalogue is one of the pre-defined available DataCatalog of HydroMT. Here is how you can get a list of the pre-defined data catalogues:"
   ]
  },
  {
   "cell_type": "code",
   "execution_count": null,
   "id": "611ed35b",
   "metadata": {},
   "outputs": [],
   "source": [
    "from hydromt.cli import api as hydromt_api\n",
    "hydromt_api.get_predifined_catalogs()"
   ]
  },
  {
   "cell_type": "markdown",
   "id": "1f20028a",
   "metadata": {},
   "source": [
    "To read your own data catalogue (as well as a predefined catalogue), you can use the **data_libs** argument of the [DataCatalog](../_generated/hydromt.data_catalog.DataCatalog.rst) which accepts either a absloute/relative path to a data catlogue yaml file or a name of a pre-defined catalogue.\n",
    "\n",
    "Here an example for the pre-defined `artifact_data` catalogue:"
   ]
  },
  {
   "cell_type": "code",
   "execution_count": null,
   "id": "6cff0843",
   "metadata": {},
   "outputs": [],
   "source": [
    "data_catalog = hydromt.DataCatalog(data_libs='artifact_data')"
   ]
  },
  {
   "cell_type": "markdown",
   "id": "7ba981ed",
   "metadata": {},
   "source": [
    "Let's now check with data sources are available in the catalogue:"
   ]
  },
  {
   "cell_type": "code",
   "execution_count": null,
   "id": "a254140d",
   "metadata": {},
   "outputs": [],
   "source": [
    "# For a list of sources including attributes\n",
    "# data_catalog.sources\n",
    "# For a list of sources name by data_type\n",
    "hydromt_api.get_datasets('artifact_data')"
   ]
  },
  {
   "cell_type": "markdown",
   "id": "b2846f07",
   "metadata": {},
   "source": [
    "And let's now open a plot one of the available datasets to check extent and available dates:"
   ]
  },
  {
   "cell_type": "code",
   "execution_count": null,
   "id": "303da2d8",
   "metadata": {},
   "outputs": [],
   "source": [
    "ds = data_catalog.get_rasterdataset('era5')\n",
    "print(f\"Available extent: {ds.raster.bounds}\")\n",
    "print(f\"Available dates: {ds.time.values[0]} to {ds.time.values[-1]}\")"
   ]
  },
  {
   "cell_type": "markdown",
   "id": "efd6e8e3",
   "metadata": {},
   "source": [
    "### Export an extract of the data"
   ]
  },
  {
   "cell_type": "markdown",
   "id": "02bc2086",
   "metadata": {},
   "source": [
    "Now we will export a subset of the data in our `artifact_data` catlogue using the [DataCatalog.export_data](../_generated/hydromt.data_catalog.DataCatalog.export_data.rst) method.\n",
    "\n",
    "With this method, you can choose:\n",
    "  - **data_root**: where to save the exported data\n",
    "  - **bbox**: bounding box geographic extent of the exported data (by default same as origin).\n",
    "  - **time_tuple**: start and end time of the exported data (by default same as origin).\n",
    "  - **source_names**: name of data sources to export (by default all).\n",
    "  - **unit_conversion**: when exporting data, HydroMT will rename and convert the units of the different variables. When this option is set to False, HydroMT will skip the unit conversion.\n",
    "\n",
    "Let's select which data source and the extent we want (based on the exploration above): "
   ]
  },
  {
   "cell_type": "code",
   "execution_count": null,
   "id": "2f034b58",
   "metadata": {},
   "outputs": [],
   "source": [
    "# List of data sources to export\n",
    "source_list = ['merit_hydro_1k','soilgrids','vito','era5']\n",
    "# Geographic extent\n",
    "bbox = [12.0, 46.0, 13.0, 46.5]\n",
    "# Time extent\n",
    "time_tuple = (('2010-02-10', '2010-02-15'))"
   ]
  },
  {
   "cell_type": "markdown",
   "id": "31bacffa",
   "metadata": {},
   "source": [
    "And let's export the data in a *data_extract* folder:"
   ]
  },
  {
   "cell_type": "code",
   "execution_count": null,
   "id": "1b635587",
   "metadata": {},
   "outputs": [],
   "source": [
    "data_catalog.export_data(\n",
    "    data_root = os.path.join(os.getcwd(), 'data_extract'), \n",
    "    bbox=bbox, \n",
    "    time_tuple=time_tuple,\n",
    "    source_names=source_list\n",
    ")"
   ]
  },
  {
   "cell_type": "markdown",
   "id": "442019bb",
   "metadata": {},
   "source": [
    "### Open and explore the exported data\n",
    "\n",
    "Now we have our new extracted data and HydroMT saved as well a new data catalogue file that goes with it:"
   ]
  },
  {
   "cell_type": "code",
   "execution_count": null,
   "id": "0bc6b168",
   "metadata": {
    "scrolled": true
   },
   "outputs": [],
   "source": [
    "import os\n",
    "\n",
    "root = \"data_extract\"\n",
    "for path, _, files in os.walk(root):\n",
    "    print(path)\n",
    "    for name in files:\n",
    "        if name.endswith(\".xml\"):\n",
    "            continue\n",
    "        print(f\" - {name}\")"
   ]
  },
  {
   "cell_type": "markdown",
   "id": "3e2a1f75",
   "metadata": {},
   "source": [
    "Let's open the extracted data catalogue:"
   ]
  },
  {
   "cell_type": "code",
   "execution_count": null,
   "id": "da1c423c",
   "metadata": {},
   "outputs": [],
   "source": [
    "data_catalog_extract = hydromt.DataCatalog(data_libs=os.path.join('data_extract', 'data_catalog.yml'))\n",
    "data_catalog_extract.sources"
   ]
  },
  {
   "cell_type": "markdown",
   "id": "2977458f",
   "metadata": {},
   "source": [
    "And now let's open the extracted data again and do a nice plot."
   ]
  },
  {
   "cell_type": "code",
   "execution_count": null,
   "id": "760d5e83",
   "metadata": {},
   "outputs": [],
   "source": [
    "ds_extract = data_catalog_extract.get_rasterdataset('era5')"
   ]
  },
  {
   "cell_type": "code",
   "execution_count": null,
   "id": "797d2517",
   "metadata": {},
   "outputs": [],
   "source": [
    "import matplotlib.pyplot as plt\n",
    "import geopandas as gpd\n",
    "from shapely.geometry import box\n",
    "import cartopy.crs as ccrs\n",
    "\n",
    "proj = ccrs.PlateCarree()  # plot projection\n",
    "\n",
    "# Get both dem\n",
    "dem = data_catalog.get_rasterdataset('merit_hydro_1k', variables=['elevtn'])\n",
    "dem_extract = data_catalog_extract.get_rasterdataset('merit_hydro_1k', variables=['elevtn'])\n",
    "# get bounding box of each data catalog using merit_hydro_1k\n",
    "bbox = gpd.GeoDataFrame(geometry=[box(*dem.raster.bounds)], crs=4326)\n",
    "bbox_extract = gpd.GeoDataFrame(geometry=[box(*dem_extract.raster.bounds)], crs=4326)\n",
    "\n",
    "# Initialise plot\n",
    "figsize = (10, 8)\n",
    "fig = plt.figure(figsize=figsize)\n",
    "ax = fig.add_subplot(projection=proj)\n",
    "\n",
    "# Plot the bounding box\n",
    "bbox.boundary.plot(ax=ax, color=\"k\", linewidth=0.8)\n",
    "bbox_extract.boundary.plot(ax=ax, color=\"red\", linewidth=0.8)\n",
    "\n",
    "# Plot elevation\n",
    "dem.raster.mask_nodata().plot(ax=ax, cmap=\"gray\")\n",
    "dem_extract.raster.mask_nodata().plot(ax=ax, cmap=\"terrain\")"
   ]
  }
 ],
 "metadata": {
  "kernelspec": {
   "display_name": "Python 3.10.6 ('hydromt-wflow')",
   "language": "python",
   "name": "python3"
  },
  "language_info": {
   "codemirror_mode": {
    "name": "ipython",
    "version": 3
   },
   "file_extension": ".py",
   "mimetype": "text/x-python",
   "name": "python",
   "nbconvert_exporter": "python",
   "pygments_lexer": "ipython3",
   "version": "3.10.6"
  },
  "vscode": {
   "interpreter": {
    "hash": "f9be336605a53c210a487268a401a33d3fa2a7a2ad8f2c9682e145979b5cf6ea"
   }
  }
 },
 "nbformat": 4,
 "nbformat_minor": 5
}
