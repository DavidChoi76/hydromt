{
 "cells": [
  {
   "cell_type": "markdown",
   "id": "b3bcda6a",
   "metadata": {},
   "source": [
    "## Example: Preparing a data catalog"
   ]
  },
  {
   "cell_type": "markdown",
   "id": "24de01ef",
   "metadata": {},
   "source": [
    "This example illustrates the how to prepare your own HydroMT [DataCatalog](https://deltares.github.io/hydromt/latest/_generated/hydromt.data_catalog.DataCatalog.html) to reference your own data sources and start using then within HydroMT, see [user guide](https://deltares.github.io/hydromt/latest/user_guide/data_prepare_cat.html)."
   ]
  },
  {
   "cell_type": "code",
   "execution_count": null,
   "id": "cb652f8e",
   "metadata": {},
   "outputs": [],
   "source": [
    "# import hydromt and setup logging\n",
    "import os\n",
    "from pprint import pprint\n",
    "import hydromt\n",
    "from hydromt.log import setuplog\n",
    "\n",
    "logger = setuplog(\"prepare data catalog\", log_level=10)"
   ]
  },
  {
   "cell_type": "markdown",
   "id": "384119c5",
   "metadata": {},
   "source": [
    "The steps to use your own data within HydroMT are in brief:\n",
    "\n",
    "  1) **Have your (local) dataset ready** in one of the supported [raster](https://deltares.github.io/hydromt/latest/user_guide/data_types.html#raster-formats) (tif, ascii, netcdf, zarr...), \n",
    "   [vector](https://deltares.github.io/hydromt/latest/user_guide/data_types.html#vector-formats) (shp, geojson, gpkg...) or [geospatial time-series](https://deltares.github.io/hydromt/latest/user_guide/data_types.html#geo-formats) (netcdf, csv...) format.\n",
    "  2) **Create your own [yaml file](https://deltares.github.io/hydromt/latest/user_guide/data_prepare_cat.html#data-yaml)** with a reference to your prepared dataset and properties (path, data_type, driver, etc.) following the HydroMT [data conventions](https://deltares.github.io/hydromt/latest/user_guide/data_conventions.html#data-convention). For this step, you can also start from an existing pre-defined catalog or use it for inspiration.\n",
    "\n",
    "The existing pre-defined catalog are:"
   ]
  },
  {
   "cell_type": "code",
   "execution_count": null,
   "id": "e73f3b5a",
   "metadata": {},
   "outputs": [],
   "source": [
    "# this download the artifact_data archive v0.0.6\n",
    "data_catalog = hydromt.DataCatalog(data_libs=[\"artifact_data=v0.0.6\"])\n",
    "pprint(data_catalog.predefined_catalogs)"
   ]
  },
  {
   "cell_type": "markdown",
   "id": "cf6fb67d",
   "metadata": {},
   "source": [
    "In this notebook, we will see how we can create a data catalog for several type of input data. For this we have prepared several type of data that we will catalogue, let's see which data we have available:"
   ]
  },
  {
   "cell_type": "code",
   "execution_count": null,
   "id": "f3b2ea85",
   "metadata": {},
   "outputs": [],
   "source": [
    "# the artifact data is stored in the following location\n",
    "root = os.path.join(data_catalog._cache_dir, \"artifact_data\", \"v0.0.6\")\n",
    "# let's print some of the file that are there\n",
    "for item in os.listdir(root)[-10:]:\n",
    "    print(item)"
   ]
  },
  {
   "cell_type": "markdown",
   "id": "17d8f348",
   "metadata": {},
   "source": [
    "### RasterDataset from raster file"
   ]
  },
  {
   "cell_type": "markdown",
   "id": "e66efa59",
   "metadata": {},
   "source": [
    "The first file we will use is a 'simple' raster file in a tif format: **vito.tif**. This file contains a landuse classification raster. The first thing to do before adding a new file to a data catalog is to get to know what is inside of our file mainly:\n",
    "\n",
    "  - **location of the file**: `path`.\n",
    "  - **type of data**: `data_type`. `RasterDataset` for gridded data, `GeoDataFrame` for vector data, `GeoDataset` for point timeseries and `DataFrame` for tabular data.\n",
    "  - **file format**: `driver`. The file format impacts the driver or python function that will be used to open the data. Either `raster`, `raster_tindex`, `netcdf`, `zarr`, `vector`, `vector_table`.\n",
    "  - **crs**: `crs`. Coordinate sytem of the data. Optional as it is usually encoded in the data itself.\n",
    "  - **variables and their properties**: `rename`, `unit_mult`, `unit_add`. Looking at the variables in the input data and what are their names and units so that we can convert them to the [HydroMT data conventions](https://deltares.github.io/hydromt/latest/user_guide/data_conventions.html).\n",
    "  \n",
    "There are more arguments or properties to look for that are explained in more detailed in the [documentation](https://deltares.github.io/hydromt/latest/user_guide/data_prepare_cat.html). To discover our data we can either use GIS software like QGIS or GDAL or just use python directly to try and open the data."
   ]
  },
  {
   "cell_type": "markdown",
   "id": "f1ddea4c",
   "metadata": {},
   "source": [
    "Let's open our vito.tif file with xarray and rioxarray:"
   ]
  },
  {
   "cell_type": "code",
   "execution_count": null,
   "id": "b6316ba4",
   "metadata": {},
   "outputs": [],
   "source": [
    "import xarray as xr\n",
    "import rioxarray\n",
    "\n",
    "da = xr.open_dataarray(os.path.join(root, \"vito.tif\"))\n",
    "pprint(da)\n",
    "print(f\"CRS: {da.raster.crs}\")\n",
    "da.plot()"
   ]
  },
  {
   "cell_type": "markdown",
   "id": "f172c8ba",
   "metadata": {},
   "source": [
    "What we see is that we have a simple raster with landuse data in crs 4326. Let's translate what we know into a data catalog."
   ]
  },
  {
   "cell_type": "code",
   "execution_count": null,
   "id": "5e27ec65",
   "metadata": {},
   "outputs": [],
   "source": [
    "yml_str = f\"\"\"meta:\n",
    "  root: {root}\n",
    "  \n",
    "vito:\n",
    "    path: vito.tif\n",
    "    data_type: RasterDataset\n",
    "    driver: raster\n",
    "    crs: 4326\n",
    "    meta:\n",
    "        category: landuse\n",
    "\"\"\"\n",
    "data_lib = \"tmpdir/vito.yml\"\n",
    "with open(data_lib, mode=\"w\") as f:\n",
    "    f.write(yml_str)"
   ]
  },
  {
   "cell_type": "markdown",
   "id": "1635f934",
   "metadata": {},
   "source": [
    "And let's now see if HydroMT can properly read the file from the data catalog we prepared:"
   ]
  },
  {
   "cell_type": "code",
   "execution_count": null,
   "id": "278a42df",
   "metadata": {},
   "outputs": [],
   "source": [
    "data_catalog = hydromt.DataCatalog(data_libs=[data_lib], logger=logger)\n",
    "da = data_catalog.get_rasterdataset(\"vito\")\n",
    "da"
   ]
  },
  {
   "cell_type": "markdown",
   "id": "7b24959b",
   "metadata": {},
   "source": [
    "### RasterDataset from several raster files"
   ]
  },
  {
   "cell_type": "code",
   "execution_count": null,
   "id": "11962716",
   "metadata": {},
   "outputs": [],
   "source": [
    "folder_name = os.path.join(root, \"merit_hydro\")\n",
    "# let's see which files are there\n",
    "for path, _, files in os.walk(folder_name):\n",
    "    print(path)\n",
    "    for name in files:\n",
    "        print(f\" - {name}\")"
   ]
  },
  {
   "cell_type": "code",
   "execution_count": null,
   "id": "355deb73",
   "metadata": {},
   "outputs": [],
   "source": [
    "yml_str = f\"\"\"meta:\n",
    "  root: {root}\n",
    "\n",
    "merit_hydro:\n",
    "  data_type: RasterDataset\n",
    "  driver: raster\n",
    "  kwargs:\n",
    "    chunks:\n",
    "      x: 6000\n",
    "      y: 6000\n",
    "  meta:\n",
    "    category: topography\n",
    "  rename:\n",
    "    hnd: height_above_nearest_drain\n",
    "  path: merit_hydro/*.tif\n",
    "\"\"\"\n",
    "# overwrite data catalog\n",
    "data_lib = \"tmpdir/merit_hydro.yml\"\n",
    "with open(data_lib, mode=\"w\") as f:\n",
    "    f.write(yml_str)"
   ]
  },
  {
   "cell_type": "code",
   "execution_count": null,
   "id": "57dc656b",
   "metadata": {},
   "outputs": [],
   "source": [
    "data_catalog.from_yml(data_lib)  # add a yaml file to the data catalog\n",
    "print(data_catalog.sources.keys())\n",
    "ds = data_catalog.get_rasterdataset(\"merit_hydro\")\n",
    "ds"
   ]
  },
  {
   "cell_type": "markdown",
   "id": "9065d6af",
   "metadata": {},
   "source": [
    "merit_hydro: rename vars + {variable} placeholder"
   ]
  },
  {
   "cell_type": "markdown",
   "id": "d41d450f",
   "metadata": {},
   "source": [
    "### RasterDataset from a netcdf file"
   ]
  },
  {
   "cell_type": "markdown",
   "id": "5ecf35ca",
   "metadata": {},
   "source": [
    "climate.nc: rename vars + unit_mult unit_add"
   ]
  },
  {
   "cell_type": "markdown",
   "id": "6254b5d3",
   "metadata": {},
   "source": [
    "### GeoDataFrame from a vector file"
   ]
  },
  {
   "cell_type": "markdown",
   "id": "ae890946",
   "metadata": {},
   "source": [
    "rivers_lin: rename vars"
   ]
  },
  {
   "cell_type": "markdown",
   "id": "bb64ce49",
   "metadata": {},
   "source": [
    "### GeoDataset from a netcdf file"
   ]
  },
  {
   "cell_type": "markdown",
   "id": "c5a44b95",
   "metadata": {},
   "source": [
    "gtsm: just open"
   ]
  },
  {
   "cell_type": "markdown",
   "id": "36b2a9b8",
   "metadata": {},
   "source": [
    "### GeoDataset from vector files"
   ]
  },
  {
   "cell_type": "markdown",
   "id": "0b5d8565",
   "metadata": {},
   "source": [
    "stations.csv and stations_data.csv - use the reading point timeseries example: just open"
   ]
  },
  {
   "cell_type": "markdown",
   "id": "402f13ac",
   "metadata": {},
   "source": []
  }
 ],
 "metadata": {
  "kernelspec": {
   "display_name": "Python 3.10.5 ('hydromt-dev')",
   "language": "python",
   "name": "python3"
  },
  "language_info": {
   "codemirror_mode": {
    "name": "ipython",
    "version": 3
   },
   "file_extension": ".py",
   "mimetype": "text/x-python",
   "name": "python",
   "nbconvert_exporter": "python",
   "pygments_lexer": "ipython3",
   "version": "3.10.5"
  },
  "vscode": {
   "interpreter": {
    "hash": "3808d5b5b54949c7a0a707a38b0a689040fa9c90ab139a050e41373880719ab1"
   }
  }
 },
 "nbformat": 4,
 "nbformat_minor": 5
}
