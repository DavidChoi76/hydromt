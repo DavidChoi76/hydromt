{
 "cells": [
  {
   "cell_type": "markdown",
   "id": "87e8269e",
   "metadata": {},
   "source": [
    "## Example: Reading 2D tabular data (DataFrame) "
   ]
  },
  {
   "cell_type": "markdown",
   "id": "29a06345",
   "metadata": {},
   "source": [
    "This example illustrates the how to read 2D tabular data using the HydroMT [DataCatalog](../_generated/hydromt.data_catalog.DataCatalog.rst) with the `csv` and `excel` and `fwf` drivers."
   ]
  },
  {
   "cell_type": "code",
   "execution_count": 2,
   "id": "ee2e0013",
   "metadata": {},
   "outputs": [
    {
     "name": "stdout",
     "output_type": "stream",
     "text": [
      "2023-01-27 10:48:39,166 - read point location data - log - INFO - HydroMT version: 0.6.1.dev\n"
     ]
    }
   ],
   "source": [
    "# import hydromt and setup logging\n",
    "import hydromt\n",
    "from hydromt.log import setuplog\n",
    "import pandas as pd\n",
    "\n",
    "logger = setuplog(\"read point location data\", log_level=10)"
   ]
  },
  {
   "cell_type": "code",
   "execution_count": 3,
   "id": "dbd6017b",
   "metadata": {},
   "outputs": [
    {
     "name": "stdout",
     "output_type": "stream",
     "text": [
      "2023-01-27 10:48:39,229 - read point location data - data_catalog - INFO - Parsing data catalog from data/tabular_data_catalog.yml\n"
     ]
    }
   ],
   "source": [
    "data_catalog = hydromt.DataCatalog(\"data/tabular_data_catalog.yml\" , logger=logger)"
   ]
  },
  {
   "cell_type": "markdown",
   "id": "bfdd7db0",
   "metadata": {},
   "source": [
    "## CSV driver "
   ]
  },
  {
   "cell_type": "markdown",
   "id": "56986e7b",
   "metadata": {},
   "source": [
    "To read 2D tabular data from a comma-separated file (ano) and parse it into a [pandas.DataFrame](https://pandas.pydata.org/pandas-docs/stable/reference/api/pandas.DataFrame.html) we use the [read_csv()](https://pandas.pydata.org/pandas-docs/stable/reference/api/pandas.read_csv.html) \n",
    "\n",
    "For demonstration we use a dummy example data. "
   ]
  },
  {
   "cell_type": "code",
   "execution_count": 4,
   "id": "2c8f2ecd",
   "metadata": {},
   "outputs": [
    {
     "data": {
      "text/plain": [
       "data_type: DataFrame\n",
       "driver: csv\n",
       "path: c:\\Users\\jong\\Projects\\hydromt\\examples\\data\\example_csv_data.csv"
      ]
     },
     "execution_count": 4,
     "metadata": {},
     "output_type": "execute_result"
    }
   ],
   "source": [
    "# inspect data source entry in data catalog yaml file\n",
    "data_catalog[\"example_csv_data\"]"
   ]
  },
  {
   "cell_type": "markdown",
   "id": "772e30f3",
   "metadata": {},
   "source": [
    "We can load any 2D tabular data using [DataCatalog.get_dataframe()](../_generated/hydromt.data_adapter.DataCatalog.get_dataframe.rst). Note that if we don't provide any arguments it returns the full dataframe. "
   ]
  },
  {
   "cell_type": "code",
   "execution_count": 5,
   "id": "0a590ebd",
   "metadata": {},
   "outputs": [
    {
     "name": "stdout",
     "output_type": "stream",
     "text": [
      "2023-01-27 10:48:39,461 - read point location data - data_catalog - INFO - DataCatalog: Getting example_csv_data DataFrame csv data from c:\\Users\\jong\\Projects\\hydromt\\examples\\data\\example_csv_data.csv\n",
      "2023-01-27 10:48:39,462 - read point location data - dataframe - INFO - DataFrame: Read csv data.\n"
     ]
    },
    {
     "data": {
      "text/html": [
       "<div>\n",
       "<style scoped>\n",
       "    .dataframe tbody tr th:only-of-type {\n",
       "        vertical-align: middle;\n",
       "    }\n",
       "\n",
       "    .dataframe tbody tr th {\n",
       "        vertical-align: top;\n",
       "    }\n",
       "\n",
       "    .dataframe thead th {\n",
       "        text-align: right;\n",
       "    }\n",
       "</style>\n",
       "<table border=\"1\" class=\"dataframe\">\n",
       "  <thead>\n",
       "    <tr style=\"text-align: right;\">\n",
       "      <th></th>\n",
       "      <th>time</th>\n",
       "      <th>col1</th>\n",
       "      <th>col2</th>\n",
       "    </tr>\n",
       "  </thead>\n",
       "  <tbody>\n",
       "    <tr>\n",
       "      <th>0</th>\n",
       "      <td>2016-01-01</td>\n",
       "      <td>0.590860</td>\n",
       "      <td>0.591380</td>\n",
       "    </tr>\n",
       "    <tr>\n",
       "      <th>1</th>\n",
       "      <td>2016-01-02</td>\n",
       "      <td>0.565552</td>\n",
       "      <td>0.571342</td>\n",
       "    </tr>\n",
       "    <tr>\n",
       "      <th>2</th>\n",
       "      <td>2016-01-03</td>\n",
       "      <td>0.538679</td>\n",
       "      <td>0.549770</td>\n",
       "    </tr>\n",
       "    <tr>\n",
       "      <th>3</th>\n",
       "      <td>2016-01-04</td>\n",
       "      <td>0.511894</td>\n",
       "      <td>0.526932</td>\n",
       "    </tr>\n",
       "    <tr>\n",
       "      <th>4</th>\n",
       "      <td>2016-01-05</td>\n",
       "      <td>0.483989</td>\n",
       "      <td>0.502907</td>\n",
       "    </tr>\n",
       "    <tr>\n",
       "      <th>...</th>\n",
       "      <td>...</td>\n",
       "      <td>...</td>\n",
       "      <td>...</td>\n",
       "    </tr>\n",
       "    <tr>\n",
       "      <th>2011</th>\n",
       "      <td>2021-07-04</td>\n",
       "      <td>0.271673</td>\n",
       "      <td>0.287093</td>\n",
       "    </tr>\n",
       "    <tr>\n",
       "      <th>2012</th>\n",
       "      <td>2021-07-05</td>\n",
       "      <td>0.249286</td>\n",
       "      <td>0.265656</td>\n",
       "    </tr>\n",
       "    <tr>\n",
       "      <th>2013</th>\n",
       "      <td>2021-07-06</td>\n",
       "      <td>0.224985</td>\n",
       "      <td>0.243299</td>\n",
       "    </tr>\n",
       "    <tr>\n",
       "      <th>2014</th>\n",
       "      <td>2021-07-07</td>\n",
       "      <td>0.199994</td>\n",
       "      <td>0.220004</td>\n",
       "    </tr>\n",
       "    <tr>\n",
       "      <th>2015</th>\n",
       "      <td>2021-07-08</td>\n",
       "      <td>0.174702</td>\n",
       "      <td>0.196587</td>\n",
       "    </tr>\n",
       "  </tbody>\n",
       "</table>\n",
       "<p>2016 rows × 3 columns</p>\n",
       "</div>"
      ],
      "text/plain": [
       "            time      col1      col2\n",
       "0     2016-01-01  0.590860  0.591380\n",
       "1     2016-01-02  0.565552  0.571342\n",
       "2     2016-01-03  0.538679  0.549770\n",
       "3     2016-01-04  0.511894  0.526932\n",
       "4     2016-01-05  0.483989  0.502907\n",
       "...          ...       ...       ...\n",
       "2011  2021-07-04  0.271673  0.287093\n",
       "2012  2021-07-05  0.249286  0.265656\n",
       "2013  2021-07-06  0.224985  0.243299\n",
       "2014  2021-07-07  0.199994  0.220004\n",
       "2015  2021-07-08  0.174702  0.196587\n",
       "\n",
       "[2016 rows x 3 columns]"
      ]
     },
     "execution_count": 5,
     "metadata": {},
     "output_type": "execute_result"
    }
   ],
   "source": [
    "ds = data_catalog.get_dataframe(\"example_csv_data\")\n",
    "ds"
   ]
  },
  {
   "cell_type": "markdown",
   "id": "eda1aa26",
   "metadata": {},
   "source": [
    "The data can be visualized with the [.plot()](https://pandas.pydata.org/pandas-docs/stable/reference/api/pandas.DataFrame.plot.html) pandas method. "
   ]
  },
  {
   "cell_type": "code",
   "execution_count": 6,
   "id": "6b90f96d",
   "metadata": {},
   "outputs": [
    {
     "data": {
      "text/plain": [
       "<AxesSubplot: xlabel='time'>"
      ]
     },
     "execution_count": 6,
     "metadata": {},
     "output_type": "execute_result"
    },
    {
     "data": {
      "image/png": "[encoded data removed]",
      "text/plain": [
       "<Figure size 640x480 with 1 Axes>"
      ]
     },
     "metadata": {},
     "output_type": "display_data"
    }
   ],
   "source": [
    "ds[\"time\"] = pd.to_datetime(ds[\"time\"], format=\"%Y-%m-%d\")\n",
    "ds.plot(x=\"time\", y=\"col1\")"
   ]
  },
  {
   "cell_type": "markdown",
   "id": "70fd6715",
   "metadata": {},
   "source": [
    "## Excel driver"
   ]
  },
  {
   "attachments": {},
   "cell_type": "markdown",
   "id": "f4257b91",
   "metadata": {},
   "source": [
    "To read tabular data from excel files and parse it into a [pandas.DataFrame](https://pandas.pydata.org/pandas-docs/stable/reference/api/pandas.DataFrame.html) object we use the [read_excel()](https://pandas.pydata.org/pandas-docs/stable/reference/api/pandas.read_excel.html#pandas.read_excel) method."
   ]
  },
  {
   "cell_type": "code",
   "execution_count": 7,
   "id": "9f1f860a",
   "metadata": {},
   "outputs": [
    {
     "data": {
      "text/plain": [
       "data_type: DataFrame\n",
       "driver: xlsx\n",
       "path: c:\\Users\\jong\\Projects\\hydromt\\examples\\data\\dummy_excel_data.xlsx"
      ]
     },
     "execution_count": 7,
     "metadata": {},
     "output_type": "execute_result"
    }
   ],
   "source": [
    "# Note that this is only example data \n",
    "data_catalog[\"dummy_excel_data\"]"
   ]
  },
  {
   "cell_type": "code",
   "execution_count": 8,
   "id": "98c2fbac",
   "metadata": {},
   "outputs": [
    {
     "name": "stdout",
     "output_type": "stream",
     "text": [
      "2023-01-27 10:48:48,387 - read point location data - data_catalog - INFO - DataCatalog: Getting dummy_excel_data DataFrame xlsx data from c:\\Users\\jong\\Projects\\hydromt\\examples\\data\\dummy_excel_data.xlsx\n",
      "2023-01-27 10:48:48,389 - read point location data - dataframe - INFO - DataFrame: Read xlsx data.\n"
     ]
    },
    {
     "data": {
      "text/html": [
       "<div>\n",
       "<style scoped>\n",
       "    .dataframe tbody tr th:only-of-type {\n",
       "        vertical-align: middle;\n",
       "    }\n",
       "\n",
       "    .dataframe tbody tr th {\n",
       "        vertical-align: top;\n",
       "    }\n",
       "\n",
       "    .dataframe thead th {\n",
       "        text-align: right;\n",
       "    }\n",
       "</style>\n",
       "<table border=\"1\" class=\"dataframe\">\n",
       "  <thead>\n",
       "    <tr style=\"text-align: right;\">\n",
       "      <th></th>\n",
       "      <th>Unnamed: 0</th>\n",
       "      <th>col1</th>\n",
       "      <th>col2</th>\n",
       "      <th>col3</th>\n",
       "    </tr>\n",
       "  </thead>\n",
       "  <tbody>\n",
       "    <tr>\n",
       "      <th>0</th>\n",
       "      <td>0</td>\n",
       "      <td>74</td>\n",
       "      <td>50</td>\n",
       "      <td>69</td>\n",
       "    </tr>\n",
       "    <tr>\n",
       "      <th>1</th>\n",
       "      <td>1</td>\n",
       "      <td>4</td>\n",
       "      <td>95</td>\n",
       "      <td>22</td>\n",
       "    </tr>\n",
       "    <tr>\n",
       "      <th>2</th>\n",
       "      <td>2</td>\n",
       "      <td>20</td>\n",
       "      <td>20</td>\n",
       "      <td>23</td>\n",
       "    </tr>\n",
       "    <tr>\n",
       "      <th>3</th>\n",
       "      <td>3</td>\n",
       "      <td>33</td>\n",
       "      <td>94</td>\n",
       "      <td>84</td>\n",
       "    </tr>\n",
       "    <tr>\n",
       "      <th>4</th>\n",
       "      <td>4</td>\n",
       "      <td>34</td>\n",
       "      <td>40</td>\n",
       "      <td>90</td>\n",
       "    </tr>\n",
       "    <tr>\n",
       "      <th>5</th>\n",
       "      <td>5</td>\n",
       "      <td>22</td>\n",
       "      <td>42</td>\n",
       "      <td>66</td>\n",
       "    </tr>\n",
       "    <tr>\n",
       "      <th>6</th>\n",
       "      <td>6</td>\n",
       "      <td>6</td>\n",
       "      <td>34</td>\n",
       "      <td>94</td>\n",
       "    </tr>\n",
       "    <tr>\n",
       "      <th>7</th>\n",
       "      <td>7</td>\n",
       "      <td>31</td>\n",
       "      <td>20</td>\n",
       "      <td>72</td>\n",
       "    </tr>\n",
       "    <tr>\n",
       "      <th>8</th>\n",
       "      <td>8</td>\n",
       "      <td>89</td>\n",
       "      <td>76</td>\n",
       "      <td>46</td>\n",
       "    </tr>\n",
       "    <tr>\n",
       "      <th>9</th>\n",
       "      <td>9</td>\n",
       "      <td>3</td>\n",
       "      <td>71</td>\n",
       "      <td>6</td>\n",
       "    </tr>\n",
       "  </tbody>\n",
       "</table>\n",
       "</div>"
      ],
      "text/plain": [
       "   Unnamed: 0  col1  col2  col3\n",
       "0           0    74    50    69\n",
       "1           1     4    95    22\n",
       "2           2    20    20    23\n",
       "3           3    33    94    84\n",
       "4           4    34    40    90\n",
       "5           5    22    42    66\n",
       "6           6     6    34    94\n",
       "7           7    31    20    72\n",
       "8           8    89    76    46\n",
       "9           9     3    71     6"
      ]
     },
     "execution_count": 8,
     "metadata": {},
     "output_type": "execute_result"
    }
   ],
   "source": [
    "df = data_catalog.get_dataframe(\"dummy_excel_data\")\n",
    "df"
   ]
  }
 ],
 "metadata": {
  "kernelspec": {
   "display_name": "hydromt-dev",
   "language": "python",
   "name": "python3"
  },
  "language_info": {
   "codemirror_mode": {
    "name": "ipython",
    "version": 3
   },
   "file_extension": ".py",
   "mimetype": "text/x-python",
   "name": "python",
   "nbconvert_exporter": "python",
   "pygments_lexer": "ipython3",
   "version": "3.10.6"
  },
  "vscode": {
   "interpreter": {
    "hash": "8138b72b0e304ba55d14e4dcf8d650296065d1ee95f3f67a239b6fbf5f7328dd"
   }
  }
 },
 "nbformat": 4,
 "nbformat_minor": 5
}
