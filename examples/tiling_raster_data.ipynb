{
 "cells": [
  {
   "attachments": {},
   "cell_type": "markdown",
   "metadata": {},
   "source": [
    "## Example: Tiling gridded data to XYZ structure and OSM structure"
   ]
  },
  {
   "attachments": {},
   "cell_type": "markdown",
   "metadata": {},
   "source": [
    "This example will show how one can export a raster dataset to individual tiles in one of the stuctures mentioned in the title above. Normally this can be done via the [DataCatalog](https://deltares.github.io/hydromt/latest/_generated/hydromt.data_catalog.DataCatalog.html) and getting gridded data via DataCatalog.[get_rasterdataset](https://deltares.github.io/hydromt/latest/_generated/hydromt.data_catalog.DataCatalog.get_rasterdataset.html). For this example we'll use our own created dummy data."
   ]
  },
  {
   "cell_type": "code",
   "execution_count": 4,
   "metadata": {},
   "outputs": [],
   "source": [
    "# Imports\n",
    "from hydromt import raster\n",
    "from numpy import random\n",
    "\n",
    "# Create dummy data\n",
    "gd = raster.full_from_transform(\n",
    "        transform=[0.004166666666666666, 0.0, 0.0, 0.0, -0.004166666666666667, 0.0],\n",
    "        shape=(21600, 21600),\n",
    "        nodata=-9999,\n",
    "        name=\"dummy_tile_data\",\n",
    "        crs=4326,\n",
    "    )\n",
    "\n",
    "# Add some values to the raster\n",
    "gd.values = random.randint(-5000, 5000, (21600, 21600))"
   ]
  },
  {
   "attachments": {},
   "cell_type": "markdown",
   "metadata": {},
   "source": [
    "'gd' is gridded data as a xarray.DataArray object. With HydroMT a xarray.DataArray has some extra functionality via '.raster'.\n",
    "\n",
    "This extra functionality does include the ability to write a raster to a tile database (tiling).\n",
    "\n",
    "Let's first ensure there is a 'temp' folder to write the data to!\n"
   ]
  },
  {
   "cell_type": "code",
   "execution_count": 5,
   "metadata": {},
   "outputs": [],
   "source": [
    "# For the examples, the data will be written to the temp folder on the C drive.\n",
    "import os\n",
    "\n",
    "folder = \"C:\\\\temp\"\n",
    "\n",
    "if not os.path.exists(folder):\n",
    "    os.mkdir(folder)"
   ]
  },
  {
   "attachments": {},
   "cell_type": "markdown",
   "metadata": {},
   "source": [
    "### XYZ stucture\n",
    "First let's have a look at the XYZ structure.\n",
    "\n",
    "A xarray.DataArray is simple written to a tile database in XYZ structure via .raster.to_xyz\n",
    "\n"
   ]
  },
  {
   "cell_type": "code",
   "execution_count": 6,
   "metadata": {},
   "outputs": [],
   "source": [
    "# Write the database in XYZ stucture\n",
    "\n",
    "gd.raster.to_xyz(\n",
    "    root = f\"{folder}\\\\dummy_xyz\",\n",
    "    px = 1024,\n",
    "    zoomlevels = [0,1,3,4],\n",
    ")"
   ]
  },
  {
   "attachments": {},
   "cell_type": "markdown",
   "metadata": {},
   "source": [
    "The database in the 'dummy_xyz' folder now contains 4 zoomlevels as defined above. \n",
    "\n",
    "zoomlevel 0 is at the scale of the xarray.DataArray (one on one). zoomlevel 1 is downscaled by a factor 2 compared to zoomlevel 0. zoomlevel 3 is downscaled by a factor of 8 compared to zoomlevel 0.\n",
    "\n",
    "In the example above the amount of pixels per tile is determined at 1024 pixels by 1024 pixels. This resolution must NOT exceed the resolution of the total xarray.DataArray. In this example it should then be smaller than 21600.\n",
    "\n",
    "A mosaic is created per zoomlevel of these tiles in a .vrt file.\n",
    "\n",
    "At last, a .yml file is produced which can be read by the [DataCatalog](https://deltares.github.io/hydromt/latest/_generated/hydromt.data_catalog.DataCatalog.html) of HydroMT."
   ]
  },
  {
   "cell_type": "code",
   "execution_count": null,
   "metadata": {},
   "outputs": [],
   "source": [
    "# Imports\n",
    "from hydromt import DataCatalog\n",
    "\n",
    "# Load the yml into a DataCatalog\n",
    "dc = DataCatalog(f\"{folder}\\\\dummy_xyz.yml\")\n",
    "\n",
    "# View the structure of the DataCatalog\n",
    "print(dc)"
   ]
  },
  {
   "attachments": {},
   "cell_type": "markdown",
   "metadata": {},
   "source": [
    "With DataCatalog.[get_rasterdataset](https://deltares.github.io/hydromt/latest/_generated/hydromt.data_catalog.DataCatalog.get_rasterdataset.html) a raster (.vrt) can be retreived. In case of a tile database it can be done for a certain zoomlevel. E.g."
   ]
  },
  {
   "cell_type": "code",
   "execution_count": null,
   "metadata": {},
   "outputs": [],
   "source": [
    "# Request a raster from the Datacatolog\n",
    "rast = dc.get_rasterdataset(\"dummy_xyz\", zoom_level=1)\n",
    "\n",
    "# View the data\n",
    "print(rast)"
   ]
  },
  {
   "attachments": {},
   "cell_type": "markdown",
   "metadata": {},
   "source": [
    "However, the tiles can also be individually used and read."
   ]
  },
  {
   "cell_type": "code",
   "execution_count": null,
   "metadata": {},
   "outputs": [],
   "source": [
    "# Imports\n",
    "from hydromt import open_raster\n",
    "\n",
    "# Chose a random tile from zoomlevel 1\n",
    "rast = open_raster(f\"{folder}\\\\dummy_xyz\\\\1\\\\5\\\\5.tif\")\n",
    "\n",
    "# View the data\n",
    "print(rast)"
   ]
  },
  {
   "attachments": {},
   "cell_type": "markdown",
   "metadata": {},
   "source": [
    "### OSM structure\n",
    "Second on our list is the OSM structure from [OpenStreetMap](https://www.openstreetmap.org).\n",
    "\n",
    "A xarray.DataArray is simple written to a tile database in OSM structure via .raster.to_osm"
   ]
  },
  {
   "cell_type": "code",
   "execution_count": null,
   "metadata": {},
   "outputs": [],
   "source": [
    "# Write the database in OSM stucture\n",
    "\n",
    "gd.raster.to_osm(\n",
    "    root = f\"{folder}\\\\dummy_osm\",\n",
    "    zl = 5,\n",
    ")"
   ]
  },
  {
   "attachments": {},
   "cell_type": "markdown",
   "metadata": {},
   "source": [
    "We won't go in depth here concerning the structure according to osm.\n",
    "For this, visit: https://wiki.openstreetmap.org/wiki/Zoom_levels and subsequent references.\n",
    "\n",
    "However, there are three things to be considered:\n",
    "\n",
    "    - The resolution of a tile cannot be defined. This is predetermined at 256 pixels by 256 pixels.\n",
    "    - CRS is always set at EPSG:3857\n",
    "    - Zoomlevel 0 in the OSM structure spans the entire globe"
   ]
  },
  {
   "cell_type": "code",
   "execution_count": null,
   "metadata": {},
   "outputs": [],
   "source": [
    "# Imports\n",
    "from hydromt import DataCatalog\n",
    "\n",
    "# Load the .yml in a DataCatalog\n",
    "dc = DataCatalog(f\"{folder}\\\\dummy_osm.yml\")\n",
    "\n",
    "# View the DataCatalog\n",
    "print(dc)"
   ]
  },
  {
   "attachments": {},
   "cell_type": "markdown",
   "metadata": {},
   "source": [
    "Like the XYZ stucture, retrieve the gridded data via DataCatalog.[get_rasterdataset](https://deltares.github.io/hydromt/latest/_generated/hydromt.data_catalog.DataCatalog.get_rasterdataset.html)."
   ]
  },
  {
   "cell_type": "code",
   "execution_count": null,
   "metadata": {},
   "outputs": [],
   "source": [
    "#Get a raster from the DataCatalog\n",
    "rast = dc.get_rasterdataset(\"dummy_osm\", zoom_level=3)\n",
    "\n",
    "#View the data\n",
    "print(rast)"
   ]
  },
  {
   "attachments": {},
   "cell_type": "markdown",
   "metadata": {},
   "source": [
    "Individual tiles:"
   ]
  },
  {
   "cell_type": "code",
   "execution_count": null,
   "metadata": {},
   "outputs": [],
   "source": [
    "# Imports\n",
    "from hydromt import open_raster\n",
    "\n",
    "# Chose a random tile from zoomlevel 2\n",
    "rast = open_raster(f\"{folder}\\\\dummy_osm\\\\2\\\\2\\\\2.tif\")\n",
    "\n",
    "# View the data\n",
    "print(rast)"
   ]
  }
 ],
 "metadata": {
  "kernelspec": {
   "display_name": "hydromt",
   "language": "python",
   "name": "python3"
  },
  "language_info": {
   "codemirror_mode": {
    "name": "ipython",
    "version": 3
   },
   "file_extension": ".py",
   "mimetype": "text/x-python",
   "name": "python",
   "nbconvert_exporter": "python",
   "pygments_lexer": "ipython3",
   "version": "3.10.8"
  },
  "orig_nbformat": 4,
  "vscode": {
   "interpreter": {
    "hash": "a895fcaaafd08022b8aa09e2276bcb2b814a08f78fcbac21af5a9bf1657ce6c6"
   }
  }
 },
 "nbformat": 4,
 "nbformat_minor": 2
}
