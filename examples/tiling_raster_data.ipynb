{
 "cells": [
  {
   "attachments": {},
   "cell_type": "markdown",
   "metadata": {},
   "source": [
    "## Example: Tiling gridded data to XYZ structure and OSM structure"
   ]
  },
  {
   "attachments": {},
   "cell_type": "markdown",
   "metadata": {},
   "source": [
    "This example will show how one can export a raster dataset to individual tiles in one of the stuctures mentioned in the title above. Normally this can be done via the [DataCatalog](https://deltares.github.io/hydromt/latest/_generated/hydromt.data_catalog.DataCatalog.html) and getting gridded data via DataCatalog.[get_rasterdataset](https://deltares.github.io/hydromt/latest/_generated/hydromt.data_catalog.DataCatalog.get_rasterdataset.html). For this example we'll use our own created dummy data."
   ]
  },
  {
   "cell_type": "code",
   "execution_count": null,
   "metadata": {},
   "outputs": [],
   "source": [
    "# Imports\n",
    "from hydromt import raster, DataCatalog\n",
    "from hydromt.log import setuplog\n",
    "from os.path import join\n",
    "\n",
    "logger = setuplog('tiling', log_level=20)\n",
    "\n",
    "# get some elevation data from the data catalog\n",
    "data_lib = \"artifact_data\"\n",
    "data_lib = r'c:\\Users\\eilan_dk\\.hydromt_data\\artifact_data\\v0.0.8\\data_catalog.yml'\n",
    "data_cat = DataCatalog(data_lib, logger=logger)\n",
    "source = \"merit_hydro\"\n",
    "da0 = data_cat.get_rasterdataset(source, variables=[\"elevtn\"])\n",
    "da0.raster.shape"
   ]
  },
  {
   "attachments": {},
   "cell_type": "markdown",
   "metadata": {},
   "source": [
    "`da0` is gridded data as a xarray.DataArray object. \n",
    "With HydroMT a xarray.DataArray has some extra functionality via `.raster`\n",
    "This extra functionality does include the ability to write a raster to a tile database (tiling).\n"
   ]
  },
  {
   "attachments": {},
   "cell_type": "markdown",
   "metadata": {},
   "source": [
    "### XYZ stucture\n",
    "First let's have a look at the XYZ structure.\n",
    "\n",
    "A xarray.DataArray is simple written to a tile database in XYZ structure via .raster.to_xyz_tiles\n",
    "\n"
   ]
  },
  {
   "cell_type": "code",
   "execution_count": null,
   "metadata": {},
   "outputs": [],
   "source": [
    "# Write the database in XYZ stucture\n",
    "folder = \"tmpdir\"\n",
    "name = f\"{source}_xyz\"\n",
    "zoom_levels = [0, 1, 2, 3, 5]  # note that you can skip a zoom level\n",
    "da0.raster.to_xyz_tiles(\n",
    "    root=join(folder, name),\n",
    "    tile_size=256,\n",
    "    zoom_levels=zoom_levels,\n",
    "    driver=\"GTiff\",  # try also 'netcdf4'\n",
    "    compress=\"deflate\",\n",
    ")"
   ]
  },
  {
   "attachments": {},
   "cell_type": "markdown",
   "metadata": {},
   "source": [
    "The database in the 'dummy_xyz' folder now contains the zoom_levels as defined above. \n",
    "\n",
    "zoomlevel 0 is at the scale of the xarray.DataArray (one on one). zoomlevel 1 is downscaled by a factor 2 compared to zoomlevel 0. zoomlevel 3 is downscaled by a factor of 8 compared to zoomlevel 0, etc.\n",
    "\n",
    "A mosaic is created per zoomlevel of these tiles in a .vrt file.\n",
    "\n",
    "At last, a .yml file is produced which can be read by the [DataCatalog](https://deltares.github.io/hydromt/latest/_generated/hydromt.data_catalog.DataCatalog.html) of HydroMT."
   ]
  },
  {
   "cell_type": "code",
   "execution_count": null,
   "metadata": {},
   "outputs": [],
   "source": [
    "# Imports\n",
    "from hydromt import DataCatalog\n",
    "\n",
    "# Load the yml into a DataCatalog\n",
    "data_catalog = DataCatalog(join(folder, f\"{name}.yml\"), logger=logger)\n",
    "\n",
    "# View the structure of the DataCatalog\n",
    "data_catalog[name]"
   ]
  },
  {
   "attachments": {},
   "cell_type": "markdown",
   "metadata": {},
   "source": [
    "With DataCatalog.[get_rasterdataset](https://deltares.github.io/hydromt/latest/_generated/hydromt.data_catalog.DataCatalog.get_rasterdataset.html) a raster (.vrt) can be retreived. In case of a tile database it can be done for a certain zoomlevel. E.g."
   ]
  },
  {
   "cell_type": "code",
   "execution_count": null,
   "metadata": {},
   "outputs": [],
   "source": [
    "# without zoom_level the highest res data is fetched\n",
    "da0 = data_catalog.get_rasterdataset(name)\n",
    "da0.raster.shape"
   ]
  },
  {
   "cell_type": "code",
   "execution_count": null,
   "metadata": {},
   "outputs": [],
   "source": [
    "# Request a raster from the Datacatolog based on zoom resolution & unit\n",
    "da = data_catalog.get_rasterdataset(name, zoom_level=(1/600, 'degree'))\n",
    "\n",
    "da = data_catalog.get_rasterdataset(name, zoom_level=(1e3, 'meter'))\n"
   ]
  },
  {
   "cell_type": "code",
   "execution_count": null,
   "metadata": {},
   "outputs": [],
   "source": [
    "# We can also directly request a specific zoom level\n",
    "da = data_catalog.get_rasterdataset(name, zoom_level=zoom_levels[-1])\n",
    "print(da.raster.shape)"
   ]
  },
  {
   "cell_type": "code",
   "execution_count": null,
   "metadata": {},
   "outputs": [],
   "source": [
    "# View the data\n",
    "import matplotlib.pyplot as plt\n",
    "\n",
    "fig, (ax, ax1) = plt.subplots(1, 2, figsize=(8, 4))\n",
    "da0.raster.mask_nodata().plot.imshow(ax=ax, vmin=0, vmax=2500, add_colorbar=False)\n",
    "ax.set_title(f\"zoomlevel {zoom_levels[0]}\")\n",
    "da.raster.mask_nodata().plot.imshow(ax=ax1, vmin=0, vmax=2500, add_colorbar=False)\n",
    "ax1.set_title(f\"zoomlevel {zoom_levels[-1]}\")"
   ]
  }
 ],
 "metadata": {
  "kernelspec": {
   "display_name": "hydromt-dev1",
   "language": "python",
   "name": "python3"
  },
  "language_info": {
   "codemirror_mode": {
    "name": "ipython",
    "version": 3
   },
   "file_extension": ".py",
   "mimetype": "text/x-python",
   "name": "python",
   "nbconvert_exporter": "python",
   "pygments_lexer": "ipython3",
   "version": "3.10.9"
  },
  "orig_nbformat": 4,
  "vscode": {
   "interpreter": {
    "hash": "4107911daee865ab8b23da348e7348b24a775bdb6009ea2571458b9eceb9e334"
   }
  }
 },
 "nbformat": 4,
 "nbformat_minor": 2
}
